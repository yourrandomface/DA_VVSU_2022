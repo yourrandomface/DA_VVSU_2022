{
 "cells": [
  {
   "cell_type": "code",
   "execution_count": null,
   "metadata": {},
   "outputs": [],
   "source": [
    "# импортируем pandas\n",
    "import pandas as pd"
   ]
  },
  {
   "cell_type": "code",
   "execution_count": null,
   "metadata": {},
   "outputs": [],
   "source": [
    "# подгружаем датасет с фильмами"
   ]
  },
  {
   "cell_type": "code",
   "execution_count": null,
   "metadata": {},
   "outputs": [],
   "source": [
    "#чтобы было удобнее работать с бюджетом и сборами, советую поделить каждый столбец на миллион\n",
    "data['budget']=data['budget']/1000000\n",
    "data['revenue']=data['revenue']/1000000"
   ]
  },
  {
   "cell_type": "code",
   "execution_count": null,
   "metadata": {},
   "outputs": [],
   "source": [
    "# объявите новый датафрейм films, в котором будут только столбцы runtime,budget,revenue,genre1 и rating\n",
    "# сколько строк содержит новый датафрейм?"
   ]
  },
  {
   "cell_type": "code",
   "execution_count": null,
   "metadata": {},
   "outputs": [],
   "source": [
    "# удалите все строки с пропусками в датафрейме films\n",
    "# сколько объектов осталось в датафрейме?"
   ]
  },
  {
   "cell_type": "code",
   "execution_count": null,
   "metadata": {},
   "outputs": [],
   "source": [
    "#построить модель линейной регрессии - предсказать рейтинг от продолжительности фильма и бюджета\n",
    "#используем библиотеку statsmodels\n",
    "import statsmodels.formula.api as smf"
   ]
  },
  {
   "cell_type": "code",
   "execution_count": null,
   "metadata": {},
   "outputs": [],
   "source": [
    "#какие коэффициенты у рейтинга и бюджета получились при обучении модели? свободный член?\n",
    "# выведите командой print получившееся уравнение регрессии\n",
    "# пример\n",
    "print('y=0.23*x1+2.33*x2+3.07')"
   ]
  },
  {
   "cell_type": "code",
   "execution_count": null,
   "metadata": {},
   "outputs": [],
   "source": [
    "#чему равен коэффициент детерминации в модели (параметр R-squared)?"
   ]
  },
  {
   "cell_type": "code",
   "execution_count": null,
   "metadata": {},
   "outputs": [],
   "source": [
    "#обучите новую модель (model2), в которую добавьте третий признак для прогноза - сборы фильма (revenue)"
   ]
  },
  {
   "cell_type": "code",
   "execution_count": null,
   "metadata": {},
   "outputs": [],
   "source": [
    "#какой признак работает в минус для рейтинга в этой модели?\n",
    "#изменился ли коэффициент детерминации? если да, то на сколько?"
   ]
  },
  {
   "cell_type": "code",
   "execution_count": null,
   "metadata": {},
   "outputs": [],
   "source": [
    "#с помощью команды get_dummies переведите категориальный признак genre1 в вектора\n",
    "# сколько признаков теперь в датафрейме films?"
   ]
  },
  {
   "cell_type": "code",
   "execution_count": null,
   "metadata": {},
   "outputs": [],
   "source": [
    "# разделим признаки и результирующую переменную (иксы в X, rating в Y)"
   ]
  },
  {
   "cell_type": "code",
   "execution_count": null,
   "metadata": {},
   "outputs": [],
   "source": [
    "#разделим выборку на обучающую и на тестовую - на тест возьмем 30 процентов от выборки\n",
    "from sklearn.model_selection import train_test_split"
   ]
  },
  {
   "cell_type": "code",
   "execution_count": null,
   "metadata": {},
   "outputs": [],
   "source": [
    "#создаем и обучаем модель на обучающих данных (X_train,y_train)\n",
    "# используем scikit-learn!!!\n",
    "from sklearn.linear_model import LinearRegression "
   ]
  },
  {
   "cell_type": "code",
   "execution_count": null,
   "metadata": {},
   "outputs": [],
   "source": [
    "#предсказываем значение рейтинга для тестовых данных (метод predict)"
   ]
  },
  {
   "cell_type": "code",
   "execution_count": null,
   "metadata": {},
   "outputs": [],
   "source": [
    "#отрисуйте график сравнения рейтинга истинного и предсказанного\n",
    "#как по вашему мнению описывает рейтинг созданная модель? (хорошо? или не очень?)"
   ]
  },
  {
   "cell_type": "code",
   "execution_count": null,
   "metadata": {},
   "outputs": [],
   "source": [
    "#посчитайте коэффициент детерминации для тестовых данных\n",
    "# стал ли он выше по сравнению с прошлой моделью, в которой жанр не учитывался?"
   ]
  },
  {
   "cell_type": "code",
   "execution_count": null,
   "metadata": {},
   "outputs": [],
   "source": [
    "#вы достойно реализовали три модели линейной регрессии с разными признаками\n",
    "#каковы выши выводы касательно них и предсказания рейтинга фильмов?)"
   ]
  }
 ],
 "metadata": {
  "kernelspec": {
   "display_name": "Python 3",
   "language": "python",
   "name": "python3"
  },
  "language_info": {
   "codemirror_mode": {
    "name": "ipython",
    "version": 3
   },
   "file_extension": ".py",
   "mimetype": "text/x-python",
   "name": "python",
   "nbconvert_exporter": "python",
   "pygments_lexer": "ipython3",
   "version": "3.6.5"
  }
 },
 "nbformat": 4,
 "nbformat_minor": 2
}
