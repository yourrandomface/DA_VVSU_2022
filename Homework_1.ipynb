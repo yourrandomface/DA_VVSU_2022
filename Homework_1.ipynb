{
 "cells": [
  {
   "cell_type": "code",
   "execution_count": 2,
   "metadata": {},
   "outputs": [],
   "source": [
    "#импортируем пандас\n"
   ]
  },
  {
   "cell_type": "code",
   "execution_count": null,
   "metadata": {},
   "outputs": [],
   "source": [
    "#загружаем датасет с помощью read_excel"
   ]
  },
  {
   "cell_type": "markdown",
   "metadata": {},
   "source": [
    "Датасет с фильмами:\n",
    "* title - название\n",
    "* release - дата релиза\n",
    "* runtime - продолжительность\n",
    "* budget - бюджет\n",
    "* revenue - сборы\n",
    "* lang - язык\n",
    "* genre1,2 - жанры\n",
    "* country1,2 - страна проивзодства\n",
    "* actor 1-5 - актеры\n",
    "* director - режиссер\n",
    "* writer - сценарист\n",
    "* studio1,2 - киностудия\n",
    "* keyword 1-6 - ключевые слова\n",
    "* rating - рейтинг фильма"
   ]
  },
  {
   "cell_type": "code",
   "execution_count": 6,
   "metadata": {},
   "outputs": [],
   "source": [
    "#с помощью команды info() вывести инфу о признаках\n",
    "# какой признак имеет больше всего пропусков? выведи название его командой print()"
   ]
  },
  {
   "cell_type": "code",
   "execution_count": null,
   "metadata": {},
   "outputs": [],
   "source": [
    "#чтобы было удобнее работать с бюджетом и сборами, советую поделить каждый столбец на миллион\n",
    "df['budget']=df['budget']/1000000\n",
    "df['revenue']=df['revenue']/1000000"
   ]
  },
  {
   "cell_type": "markdown",
   "metadata": {},
   "source": [
    "Задачи на фильтрацию:\n",
    "* сколько в выборке фильмов в жанре мультфильм? (genre1)\n",
    "* сколько в выборке фильмов с рейтингом 8 и более?"
   ]
  },
  {
   "cell_type": "markdown",
   "metadata": {},
   "source": [
    "Задачи на агрегацию:\n",
    "* найти фильм с максимальным рейтингом/сборами/бюджетом\n",
    "* сгруппировать по жанру средний рейтинг и средние сборы\n",
    "* подсчитать количество фильмов по киностудиям, какие киностудии представлены в выборке чаще всего?"
   ]
  },
  {
   "cell_type": "markdown",
   "metadata": {},
   "source": [
    "Задачи на графики:\n",
    "* нарисовать круговую диаграмму для genre1, фильмов какого жанра в выборке больше всего?\n",
    "* гистограмма среднего бюджета по жанрам? какой жанр самый низкобюджетный?\n",
    "* построить ящик с усами для рейтинга и сборов, в каком случае выбросов больше?"
   ]
  }
 ],
 "metadata": {
  "kernelspec": {
   "display_name": "Python 3",
   "language": "python",
   "name": "python3"
  },
  "language_info": {
   "codemirror_mode": {
    "name": "ipython",
    "version": 3
   },
   "file_extension": ".py",
   "mimetype": "text/x-python",
   "name": "python",
   "nbconvert_exporter": "python",
   "pygments_lexer": "ipython3",
   "version": "3.6.5"
  }
 },
 "nbformat": 4,
 "nbformat_minor": 2
}
