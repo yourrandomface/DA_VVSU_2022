{
 "cells": [
  {
   "cell_type": "code",
   "execution_count": null,
   "metadata": {},
   "outputs": [],
   "source": [
    "#импорт пандас эс пд"
   ]
  },
  {
   "cell_type": "code",
   "execution_count": null,
   "metadata": {},
   "outputs": [],
   "source": [
    "#подгружаем датасет с фильмами"
   ]
  },
  {
   "cell_type": "code",
   "execution_count": null,
   "metadata": {},
   "outputs": [],
   "source": [
    "#чтобы было удобнее работать с бюджетом и сборами, советую поделить каждый столбец на миллион\n",
    "df['budget']=df['budget']/1000000\n",
    "df['revenue']=df['revenue']/1000000"
   ]
  },
  {
   "cell_type": "code",
   "execution_count": null,
   "metadata": {},
   "outputs": [],
   "source": [
    "#срез по номеру варианта\n",
    "#номер варианта - ваш номер в списке группы\n",
    "n=1 #номер варианта\n",
    "nn=100*n\n",
    "df=df[:nn]"
   ]
  },
  {
   "cell_type": "code",
   "execution_count": null,
   "metadata": {},
   "outputs": [],
   "source": [
    "#какой самый популярный актер главной роли(actor1), представленный в выборке?"
   ]
  },
  {
   "cell_type": "code",
   "execution_count": null,
   "metadata": {},
   "outputs": [],
   "source": [
    "#какова средняя продолжительность фильмов? а медиана?"
   ]
  },
  {
   "cell_type": "code",
   "execution_count": null,
   "metadata": {},
   "outputs": [],
   "source": [
    "#сгруппируйте по жанрам среднуюю продолжительность фильма\n",
    "#фильмы какого жанра идут меньше всего времени?"
   ]
  },
  {
   "cell_type": "code",
   "execution_count": null,
   "metadata": {},
   "outputs": [],
   "source": [
    "#построить модель линейной регрессии без разделения на обучающую и тестовую выборки (statsmodels)\n",
    "#результирующая переменная - бюджет\n",
    "#признаки - genre1 и runtime"
   ]
  },
  {
   "cell_type": "code",
   "execution_count": null,
   "metadata": {},
   "outputs": [],
   "source": [
    "#чему получился равен коэффициент детерминации?\n",
    "#какие признаки оказались статистически значимы? (p-value<0.05)"
   ]
  }
 ],
 "metadata": {
  "kernelspec": {
   "display_name": "Python 3",
   "language": "python",
   "name": "python3"
  },
  "language_info": {
   "codemirror_mode": {
    "name": "ipython",
    "version": 3
   },
   "file_extension": ".py",
   "mimetype": "text/x-python",
   "name": "python",
   "nbconvert_exporter": "python",
   "pygments_lexer": "ipython3",
   "version": "3.6.5"
  }
 },
 "nbformat": 4,
 "nbformat_minor": 2
}
