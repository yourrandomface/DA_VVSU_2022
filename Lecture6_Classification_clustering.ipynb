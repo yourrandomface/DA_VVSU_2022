{
 "cells": [
  {
   "cell_type": "markdown",
   "metadata": {},
   "source": [
    "# Лекция 6 - Классификация и кластеризация"
   ]
  },
  {
   "cell_type": "markdown",
   "metadata": {},
   "source": [
    "## Классификация"
   ]
  },
  {
   "cell_type": "code",
   "execution_count": 1,
   "metadata": {},
   "outputs": [
    {
     "data": {
      "text/html": [
       "<img src=\"data:image/png;base64,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\"/>"
      ],
      "text/plain": [
       "<IPython.core.display.Image object>"
      ]
     },
     "execution_count": 1,
     "metadata": {},
     "output_type": "execute_result"
    }
   ],
   "source": [
    "from IPython.display import Image\n",
    "Image(url='data:image/png;base64,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')"
   ]
  },
  {
   "cell_type": "markdown",
   "metadata": {},
   "source": [
    "Задача классификации – получение категориального ответа на основе набора признаков. Задано конечное множество объектов, для которых известно, к каким классам они относятся. ЗАРАНЕЕ ЗНАЕМ МЕТКИ КЛАССА - РЕШАЕМ ЗАДАЧУ КЛАССИФИКАЦИИ."
   ]
  },
  {
   "cell_type": "markdown",
   "metadata": {},
   "source": [
    "Основные алгоритмы классификации:\n",
    "* Логистическая регрессия (Logistic Regression)\n",
    "* Алгоритм k-ближайших соседей (K-Nearest Neighbors)\n",
    "* Дерево решений и Случайный лес (Decision Tree and Random Forest)\n",
    "* Метод опорных векторов(Support Vector Machine)\n",
    "* Градиентный бустинг (Gradient Boosting)\n",
    "* и т.д...."
   ]
  },
  {
   "cell_type": "markdown",
   "metadata": {},
   "source": [
    "## Логистическая регрессия"
   ]
  },
  {
   "cell_type": "markdown",
   "metadata": {},
   "source": [
    "Логистическая регрессия схожа с линейной, за исключением того факта, что вместо вычисления значения у, она оценивает к какой категории принадлежит данная точка данных."
   ]
  },
  {
   "cell_type": "code",
   "execution_count": 2,
   "metadata": {},
   "outputs": [
    {
     "data": {
      "text/html": [
       "<img src=\"https://3dnews.ru/assets/external/illustrations/2022/03/07/1061487/linear-regression-vs-logistic-regression.png\"/>"
      ],
      "text/plain": [
       "<IPython.core.display.Image object>"
      ]
     },
     "execution_count": 2,
     "metadata": {},
     "output_type": "execute_result"
    }
   ],
   "source": [
    "Image(url='https://3dnews.ru/assets/external/illustrations/2022/03/07/1061487/linear-regression-vs-logistic-regression.png')"
   ]
  },
  {
   "cell_type": "markdown",
   "metadata": {},
   "source": [
    "Главная фишка логита (лог.регрессии) в том, что в её основе используется нелинейная функция - сигмоида"
   ]
  },
  {
   "cell_type": "code",
   "execution_count": 3,
   "metadata": {},
   "outputs": [
    {
     "data": {
      "text/html": [
       "<img src=\"https://habrastorage.org/r/w1560/webt/tl/yr/xl/tlyrxlueaykyv2r09_wzsd1gxrw.png\"/>"
      ],
      "text/plain": [
       "<IPython.core.display.Image object>"
      ]
     },
     "execution_count": 3,
     "metadata": {},
     "output_type": "execute_result"
    }
   ],
   "source": [
    "Image(url='https://habrastorage.org/r/w1560/webt/tl/yr/xl/tlyrxlueaykyv2r09_wzsd1gxrw.png')"
   ]
  },
  {
   "cell_type": "markdown",
   "metadata": {},
   "source": [
    "Прелесть сигмоиды в том, что какие бы не были признаки на входе, сигмоида всегда возвращает значение в диапазоне от 0 до 1. В нашем случае это будет вероятность принадлежности к первому классу."
   ]
  },
  {
   "cell_type": "markdown",
   "metadata": {},
   "source": [
    "## логит на данных (снова плывем на титанике)"
   ]
  },
  {
   "cell_type": "code",
   "execution_count": 4,
   "metadata": {},
   "outputs": [
    {
     "data": {
      "text/html": [
       "<div>\n",
       "<style scoped>\n",
       "    .dataframe tbody tr th:only-of-type {\n",
       "        vertical-align: middle;\n",
       "    }\n",
       "\n",
       "    .dataframe tbody tr th {\n",
       "        vertical-align: top;\n",
       "    }\n",
       "\n",
       "    .dataframe thead th {\n",
       "        text-align: right;\n",
       "    }\n",
       "</style>\n",
       "<table border=\"1\" class=\"dataframe\">\n",
       "  <thead>\n",
       "    <tr style=\"text-align: right;\">\n",
       "      <th></th>\n",
       "      <th>PassengerId</th>\n",
       "      <th>Survived</th>\n",
       "      <th>Pclass</th>\n",
       "      <th>Name</th>\n",
       "      <th>Sex</th>\n",
       "      <th>Age</th>\n",
       "      <th>SibSp</th>\n",
       "      <th>Parch</th>\n",
       "      <th>Ticket</th>\n",
       "      <th>Fare</th>\n",
       "      <th>Cabin</th>\n",
       "      <th>Embarked</th>\n",
       "    </tr>\n",
       "  </thead>\n",
       "  <tbody>\n",
       "    <tr>\n",
       "      <th>0</th>\n",
       "      <td>1</td>\n",
       "      <td>0</td>\n",
       "      <td>3</td>\n",
       "      <td>Braund, Mr. Owen Harris</td>\n",
       "      <td>male</td>\n",
       "      <td>22.0</td>\n",
       "      <td>1</td>\n",
       "      <td>0</td>\n",
       "      <td>A/5 21171</td>\n",
       "      <td>7.2500</td>\n",
       "      <td>NaN</td>\n",
       "      <td>S</td>\n",
       "    </tr>\n",
       "    <tr>\n",
       "      <th>1</th>\n",
       "      <td>2</td>\n",
       "      <td>1</td>\n",
       "      <td>1</td>\n",
       "      <td>Cumings, Mrs. John Bradley (Florence Briggs Th...</td>\n",
       "      <td>female</td>\n",
       "      <td>38.0</td>\n",
       "      <td>1</td>\n",
       "      <td>0</td>\n",
       "      <td>PC 17599</td>\n",
       "      <td>71.2833</td>\n",
       "      <td>C85</td>\n",
       "      <td>C</td>\n",
       "    </tr>\n",
       "    <tr>\n",
       "      <th>2</th>\n",
       "      <td>3</td>\n",
       "      <td>1</td>\n",
       "      <td>3</td>\n",
       "      <td>Heikkinen, Miss. Laina</td>\n",
       "      <td>female</td>\n",
       "      <td>26.0</td>\n",
       "      <td>0</td>\n",
       "      <td>0</td>\n",
       "      <td>STON/O2. 3101282</td>\n",
       "      <td>7.9250</td>\n",
       "      <td>NaN</td>\n",
       "      <td>S</td>\n",
       "    </tr>\n",
       "    <tr>\n",
       "      <th>3</th>\n",
       "      <td>4</td>\n",
       "      <td>1</td>\n",
       "      <td>1</td>\n",
       "      <td>Futrelle, Mrs. Jacques Heath (Lily May Peel)</td>\n",
       "      <td>female</td>\n",
       "      <td>35.0</td>\n",
       "      <td>1</td>\n",
       "      <td>0</td>\n",
       "      <td>113803</td>\n",
       "      <td>53.1000</td>\n",
       "      <td>C123</td>\n",
       "      <td>S</td>\n",
       "    </tr>\n",
       "    <tr>\n",
       "      <th>4</th>\n",
       "      <td>5</td>\n",
       "      <td>0</td>\n",
       "      <td>3</td>\n",
       "      <td>Allen, Mr. William Henry</td>\n",
       "      <td>male</td>\n",
       "      <td>35.0</td>\n",
       "      <td>0</td>\n",
       "      <td>0</td>\n",
       "      <td>373450</td>\n",
       "      <td>8.0500</td>\n",
       "      <td>NaN</td>\n",
       "      <td>S</td>\n",
       "    </tr>\n",
       "  </tbody>\n",
       "</table>\n",
       "</div>"
      ],
      "text/plain": [
       "   PassengerId  Survived  Pclass  \\\n",
       "0            1         0       3   \n",
       "1            2         1       1   \n",
       "2            3         1       3   \n",
       "3            4         1       1   \n",
       "4            5         0       3   \n",
       "\n",
       "                                                Name     Sex   Age  SibSp  \\\n",
       "0                            Braund, Mr. Owen Harris    male  22.0      1   \n",
       "1  Cumings, Mrs. John Bradley (Florence Briggs Th...  female  38.0      1   \n",
       "2                             Heikkinen, Miss. Laina  female  26.0      0   \n",
       "3       Futrelle, Mrs. Jacques Heath (Lily May Peel)  female  35.0      1   \n",
       "4                           Allen, Mr. William Henry    male  35.0      0   \n",
       "\n",
       "   Parch            Ticket     Fare Cabin Embarked  \n",
       "0      0         A/5 21171   7.2500   NaN        S  \n",
       "1      0          PC 17599  71.2833   C85        C  \n",
       "2      0  STON/O2. 3101282   7.9250   NaN        S  \n",
       "3      0            113803  53.1000  C123        S  \n",
       "4      0            373450   8.0500   NaN        S  "
      ]
     },
     "execution_count": 4,
     "metadata": {},
     "output_type": "execute_result"
    }
   ],
   "source": [
    "import pandas as pd\n",
    "titanic=pd.read_csv('data/titanic.csv')\n",
    "titanic.head()"
   ]
  },
  {
   "cell_type": "code",
   "execution_count": 5,
   "metadata": {},
   "outputs": [],
   "source": [
    "titanic['Sex']=titanic['Sex'].map({'male':1,'female':0})\n",
    "titanic=pd.get_dummies(titanic,columns=['Pclass','Embarked'])\n",
    "features=titanic.drop(['PassengerId','Name','Ticket','Cabin'],axis=1)\n",
    "features.dropna(inplace=True)"
   ]
  },
  {
   "cell_type": "code",
   "execution_count": 6,
   "metadata": {},
   "outputs": [],
   "source": [
    "#отделяем признаки и Y\n",
    "X=features.drop(['Survived'],axis=1)\n",
    "Y=features['Survived']"
   ]
  },
  {
   "cell_type": "code",
   "execution_count": 7,
   "metadata": {},
   "outputs": [
    {
     "name": "stdout",
     "output_type": "stream",
     "text": [
      "Optimization terminated successfully.\n",
      "         Current function value: 0.501450\n",
      "         Iterations 6\n",
      "                         Results: Logit\n",
      "=================================================================\n",
      "Model:              Logit            Pseudo R-squared: 0.258     \n",
      "Dependent Variable: Survived         AIC:              724.0706  \n",
      "Date:               2022-06-02 15:33 BIC:              742.3541  \n",
      "No. Observations:   714              Log-Likelihood:   -358.04   \n",
      "Df Model:           3                LL-Null:          -482.26   \n",
      "Df Residuals:       710              LLR p-value:      1.4193e-53\n",
      "Converged:          1.0000           Scale:            1.0000    \n",
      "No. Iterations:     6.0000                                       \n",
      "-------------------------------------------------------------------\n",
      "          Coef.    Std.Err.      z       P>|z|     [0.025    0.975]\n",
      "-------------------------------------------------------------------\n",
      "const     0.9348     0.2391     3.9098   0.0001    0.4662    1.4035\n",
      "Sex      -2.3476     0.1900   -12.3587   0.0000   -2.7199   -1.9753\n",
      "Fare      0.0128     0.0027     4.7381   0.0000    0.0075    0.0181\n",
      "Age      -0.0106     0.0065    -1.6265   0.1038   -0.0233    0.0022\n",
      "=================================================================\n",
      "\n"
     ]
    }
   ],
   "source": [
    "import statsmodels.api as sm\n",
    "from statsmodels.tools import add_constant\n",
    "log_reg = sm.Logit(Y, add_constant(X[['Sex','Fare','Age']])).fit()\n",
    "print(log_reg.summary2())"
   ]
  },
  {
   "cell_type": "code",
   "execution_count": 8,
   "metadata": {},
   "outputs": [],
   "source": [
    "#уравнение"
   ]
  },
  {
   "cell_type": "code",
   "execution_count": 9,
   "metadata": {},
   "outputs": [],
   "source": [
    "#делим на обучающую и на тестовую\n",
    "from sklearn.model_selection import train_test_split \n",
    "X_train, X_test, y_train, y_test = train_test_split(X, Y, test_size=0.2, random_state=0)"
   ]
  },
  {
   "cell_type": "code",
   "execution_count": 10,
   "metadata": {},
   "outputs": [
    {
     "data": {
      "text/plain": [
       "LogisticRegression(max_iter=10000)"
      ]
     },
     "execution_count": 10,
     "metadata": {},
     "output_type": "execute_result"
    }
   ],
   "source": [
    "#реализация в scikit-learn\n",
    "from sklearn.linear_model import LogisticRegression\n",
    "clf = LogisticRegression(max_iter=10000)\n",
    "clf.fit(X_train,y_train)"
   ]
  },
  {
   "cell_type": "code",
   "execution_count": 11,
   "metadata": {},
   "outputs": [
    {
     "name": "stdout",
     "output_type": "stream",
     "text": [
      "[[-2.36350896 -0.03736676 -0.38962642  0.01861036  0.00397945  1.00399487\n",
      "   0.05679398 -1.0311007   0.20692509 -0.16505199 -0.15649644]]\n",
      "[2.50008236]\n"
     ]
    }
   ],
   "source": [
    "#коэффициенты при признаках\n",
    "print(clf.coef_)\n",
    "#коэффициент свободный\n",
    "print(clf.intercept_)"
   ]
  },
  {
   "cell_type": "code",
   "execution_count": 12,
   "metadata": {},
   "outputs": [
    {
     "name": "stdout",
     "output_type": "stream",
     "text": [
      "Свободный член: [2.50008236]\n"
     ]
    },
    {
     "data": {
      "text/html": [
       "<div>\n",
       "<style scoped>\n",
       "    .dataframe tbody tr th:only-of-type {\n",
       "        vertical-align: middle;\n",
       "    }\n",
       "\n",
       "    .dataframe tbody tr th {\n",
       "        vertical-align: top;\n",
       "    }\n",
       "\n",
       "    .dataframe thead th {\n",
       "        text-align: right;\n",
       "    }\n",
       "</style>\n",
       "<table border=\"1\" class=\"dataframe\">\n",
       "  <thead>\n",
       "    <tr style=\"text-align: right;\">\n",
       "      <th></th>\n",
       "      <th>coef</th>\n",
       "      <th>column</th>\n",
       "    </tr>\n",
       "  </thead>\n",
       "  <tbody>\n",
       "    <tr>\n",
       "      <th>0</th>\n",
       "      <td>-2.363509</td>\n",
       "      <td>Sex</td>\n",
       "    </tr>\n",
       "    <tr>\n",
       "      <th>1</th>\n",
       "      <td>-0.037367</td>\n",
       "      <td>Age</td>\n",
       "    </tr>\n",
       "    <tr>\n",
       "      <th>2</th>\n",
       "      <td>-0.389626</td>\n",
       "      <td>SibSp</td>\n",
       "    </tr>\n",
       "    <tr>\n",
       "      <th>3</th>\n",
       "      <td>0.018610</td>\n",
       "      <td>Parch</td>\n",
       "    </tr>\n",
       "    <tr>\n",
       "      <th>4</th>\n",
       "      <td>0.003979</td>\n",
       "      <td>Fare</td>\n",
       "    </tr>\n",
       "    <tr>\n",
       "      <th>5</th>\n",
       "      <td>1.003995</td>\n",
       "      <td>Pclass_1</td>\n",
       "    </tr>\n",
       "    <tr>\n",
       "      <th>6</th>\n",
       "      <td>0.056794</td>\n",
       "      <td>Pclass_2</td>\n",
       "    </tr>\n",
       "    <tr>\n",
       "      <th>7</th>\n",
       "      <td>-1.031101</td>\n",
       "      <td>Pclass_3</td>\n",
       "    </tr>\n",
       "    <tr>\n",
       "      <th>8</th>\n",
       "      <td>0.206925</td>\n",
       "      <td>Embarked_C</td>\n",
       "    </tr>\n",
       "    <tr>\n",
       "      <th>9</th>\n",
       "      <td>-0.165052</td>\n",
       "      <td>Embarked_Q</td>\n",
       "    </tr>\n",
       "    <tr>\n",
       "      <th>10</th>\n",
       "      <td>-0.156496</td>\n",
       "      <td>Embarked_S</td>\n",
       "    </tr>\n",
       "  </tbody>\n",
       "</table>\n",
       "</div>"
      ],
      "text/plain": [
       "        coef      column\n",
       "0  -2.363509         Sex\n",
       "1  -0.037367         Age\n",
       "2  -0.389626       SibSp\n",
       "3   0.018610       Parch\n",
       "4   0.003979        Fare\n",
       "5   1.003995    Pclass_1\n",
       "6   0.056794    Pclass_2\n",
       "7  -1.031101    Pclass_3\n",
       "8   0.206925  Embarked_C\n",
       "9  -0.165052  Embarked_Q\n",
       "10 -0.156496  Embarked_S"
      ]
     },
     "execution_count": 12,
     "metadata": {},
     "output_type": "execute_result"
    }
   ],
   "source": [
    "coefs=pd.DataFrame()\n",
    "coefs['coef']=clf.coef_[0]\n",
    "coefs['column']=X.columns\n",
    "print('Свободный член:',clf.intercept_)\n",
    "coefs"
   ]
  },
  {
   "cell_type": "code",
   "execution_count": 13,
   "metadata": {},
   "outputs": [],
   "source": [
    "#предсказание на тестовых данных\n",
    "y_pred=clf.predict(X_test)"
   ]
  },
  {
   "cell_type": "markdown",
   "metadata": {},
   "source": [
    "## Метрики в задачах классификации"
   ]
  },
  {
   "cell_type": "markdown",
   "metadata": {},
   "source": [
    "Подробная статья о метриках - https://webiomed.ru/blog/osnovnye-metriki-zadach-klassifikatsii-v-mashinnom-obuchenii/"
   ]
  },
  {
   "cell_type": "markdown",
   "metadata": {},
   "source": [
    "Матрица путаницы (сопряженности, confusion matrix) помогает в измерении производительности для классификации машинного обучения. С помощью этого типа модели можно различать и классифицировать модель с известными истинными значениями на наборе тестовых данных"
   ]
  },
  {
   "cell_type": "code",
   "execution_count": 14,
   "metadata": {
    "scrolled": true
   },
   "outputs": [
    {
     "data": {
      "text/html": [
       "<img src=\"https://www.machinelearningmastery.ru/img/0-420403-42522.jpeg\"/>"
      ],
      "text/plain": [
       "<IPython.core.display.Image object>"
      ]
     },
     "execution_count": 14,
     "metadata": {},
     "output_type": "execute_result"
    }
   ],
   "source": [
    "Image(url='https://www.machinelearningmastery.ru/img/0-420403-42522.jpeg')"
   ]
  },
  {
   "cell_type": "code",
   "execution_count": 15,
   "metadata": {},
   "outputs": [
    {
     "data": {
      "image/png": "[encoded data removed]",
      "text/plain": [
       "<Figure size 432x288 with 2 Axes>"
      ]
     },
     "metadata": {},
     "output_type": "display_data"
    }
   ],
   "source": [
    "import matplotlib.pyplot as plt\n",
    "from sklearn.metrics import plot_confusion_matrix\n",
    "disp = plot_confusion_matrix(clf, X_test, y_test,\n",
    "                                 cmap=plt.cm.Blues)\n",
    "plt.show()"
   ]
  },
  {
   "cell_type": "markdown",
   "metadata": {},
   "source": [
    "Точность - доля верно предсказаных ответов модели"
   ]
  },
  {
   "cell_type": "code",
   "execution_count": 16,
   "metadata": {},
   "outputs": [
    {
     "name": "stdout",
     "output_type": "stream",
     "text": [
      "Точность (accuracy):0.84\n"
     ]
    }
   ],
   "source": [
    "from sklearn.metrics import accuracy_score\n",
    "acc=accuracy_score(y_test,y_pred).round(2)\n",
    "print('Точность (accuracy):{0}'.format(acc))"
   ]
  },
  {
   "cell_type": "code",
   "execution_count": 17,
   "metadata": {},
   "outputs": [
    {
     "name": "stdout",
     "output_type": "stream",
     "text": [
      "Точность на валидации: 0.8\n"
     ]
    }
   ],
   "source": [
    "#кросс-валидация\n",
    "from sklearn.model_selection import cross_validate #для кросс-валидации\n",
    "#параметры - модель,Х,Y, сv(сколько разбиений),scoring - метрики оценки\n",
    "scores = cross_validate(clf, X, Y, cv=10,scoring=('accuracy'))\n",
    "print('Точность на валидации:',scores['test_score'].mean().round(2))"
   ]
  },
  {
   "cell_type": "markdown",
   "metadata": {},
   "source": [
    "## Деревья решений"
   ]
  },
  {
   "cell_type": "markdown",
   "metadata": {},
   "source": [
    "Почему деревья должны что-то решать?"
   ]
  },
  {
   "cell_type": "markdown",
   "metadata": {},
   "source": [
    "Они представляют собой иерархические древовидные структуры, состоящие из решающих правил вида «Если ..., то ...». Правила автоматически генерируются в процессе обучения на обучающем множестве и, поскольку они формулируются практически на естественном языке (например, «Если объём продаж более 1000 шт., то товар перспективный»), деревья решений как аналитические модели более вербализуемы и интерпретируемы, чем, скажем, нейронные сети."
   ]
  },
  {
   "cell_type": "code",
   "execution_count": 18,
   "metadata": {
    "scrolled": true
   },
   "outputs": [
    {
     "data": {
      "text/html": [
       "<img src=\"https://upload.wikimedia.org/wikipedia/ru/thumb/c/c4/CART_tree_titanic_survivors_%28RU%29.svg/480px-CART_tree_titanic_survivors_%28RU%29.svg.png\"/>"
      ],
      "text/plain": [
       "<IPython.core.display.Image object>"
      ]
     },
     "execution_count": 18,
     "metadata": {},
     "output_type": "execute_result"
    }
   ],
   "source": [
    "Image(url='https://upload.wikimedia.org/wikipedia/ru/thumb/c/c4/CART_tree_titanic_survivors_%28RU%29.svg/480px-CART_tree_titanic_survivors_%28RU%29.svg.png')"
   ]
  },
  {
   "cell_type": "code",
   "execution_count": 31,
   "metadata": {},
   "outputs": [
    {
     "data": {
      "text/plain": [
       "Index(['Sex', 'Age', 'SibSp', 'Parch', 'Fare', 'Pclass_1', 'Pclass_2',\n",
       "       'Pclass_3', 'Embarked_C', 'Embarked_Q', 'Embarked_S'],\n",
       "      dtype='object')"
      ]
     },
     "execution_count": 31,
     "metadata": {},
     "output_type": "execute_result"
    }
   ],
   "source": [
    "X_train.columns"
   ]
  },
  {
   "cell_type": "code",
   "execution_count": 43,
   "metadata": {},
   "outputs": [],
   "source": [
    "from sklearn import tree\n",
    "clf_tree = tree.DecisionTreeClassifier(max_depth=2)\n",
    "clf_tree = clf_tree.fit(X_train[['Sex','Age']],y_train)"
   ]
  },
  {
   "cell_type": "code",
   "execution_count": 37,
   "metadata": {
    "scrolled": false
   },
   "outputs": [
    {
     "data": {
      "text/plain": [
       "[Text(170.9,196.385,'X[0] <= 0.5\\ngini = 0.478\\nsamples = 571\\nvalue = [345, 226]'),\n",
       " Text(85.45,140.275,'X[1] <= 14.75\\ngini = 0.385\\nsamples = 204\\nvalue = [53, 151]'),\n",
       " Text(42.725,84.165,'X[1] <= 8.5\\ngini = 0.498\\nsamples = 30\\nvalue = [14, 16]'),\n",
       " Text(21.3625,28.055,'gini = 0.432\\nsamples = 19\\nvalue = [6, 13]'),\n",
       " Text(64.0875,28.055,'gini = 0.397\\nsamples = 11\\nvalue = [8, 3]'),\n",
       " Text(128.175,84.165,'X[1] <= 48.5\\ngini = 0.348\\nsamples = 174\\nvalue = [39, 135]'),\n",
       " Text(106.812,28.055,'gini = 0.372\\nsamples = 158\\nvalue = [39, 119]'),\n",
       " Text(149.537,28.055,'gini = 0.0\\nsamples = 16\\nvalue = [0, 16]'),\n",
       " Text(256.35,140.275,'X[1] <= 13.0\\ngini = 0.325\\nsamples = 367\\nvalue = [292, 75]'),\n",
       " Text(213.625,84.165,'X[1] <= 6.5\\ngini = 0.48\\nsamples = 30\\nvalue = [12, 18]'),\n",
       " Text(192.263,28.055,'gini = 0.401\\nsamples = 18\\nvalue = [5, 13]'),\n",
       " Text(234.988,28.055,'gini = 0.486\\nsamples = 12\\nvalue = [7, 5]'),\n",
       " Text(299.075,84.165,'X[1] <= 24.75\\ngini = 0.281\\nsamples = 337\\nvalue = [280, 57]'),\n",
       " Text(277.713,28.055,'gini = 0.177\\nsamples = 102\\nvalue = [92, 10]'),\n",
       " Text(320.438,28.055,'gini = 0.32\\nsamples = 235\\nvalue = [188, 47]')]"
      ]
     },
     "execution_count": 37,
     "metadata": {},
     "output_type": "execute_result"
    },
    {
     "data": {
      "image/png": "[encoded data removed]",
      "text/plain": [
       "<Figure size 432x288 with 1 Axes>"
      ]
     },
     "metadata": {},
     "output_type": "display_data"
    }
   ],
   "source": [
    "tree.plot_tree(clf_tree)"
   ]
  },
  {
   "cell_type": "code",
   "execution_count": 44,
   "metadata": {},
   "outputs": [],
   "source": [
    "plt.figure(figsize=(50,20))\n",
    "tree.plot_tree(clf_tree,feature_names=X_train[['Sex','Age']].columns,class_names=True, filled=True)\n",
    "strFile = \"tree1.png\"\n",
    "plt.savefig(strFile)\n",
    "plt.close()"
   ]
  },
  {
   "cell_type": "code",
   "execution_count": 28,
   "metadata": {},
   "outputs": [
    {
     "name": "stdout",
     "output_type": "stream",
     "text": [
      "Точность на валидации: 0.78\n"
     ]
    }
   ],
   "source": [
    "#кросс-валидация\n",
    "from sklearn.model_selection import cross_validate #для кросс-валидации\n",
    "#параметры - модель,Х,Y, сv(сколько разбиений),scoring - метрики оценки\n",
    "scores = cross_validate(clf_tree, X, Y, cv=10,scoring=('accuracy'))\n",
    "print('Точность на валидации:',scores['test_score'].mean().round(2))"
   ]
  },
  {
   "cell_type": "markdown",
   "metadata": {},
   "source": [
    "Существует много алгоритмов, но ещё больше параметров для настройки этих алгоритмов"
   ]
  }
 ],
 "metadata": {
  "kernelspec": {
   "display_name": "Python 3",
   "language": "python",
   "name": "python3"
  },
  "language_info": {
   "codemirror_mode": {
    "name": "ipython",
    "version": 3
   },
   "file_extension": ".py",
   "mimetype": "text/x-python",
   "name": "python",
   "nbconvert_exporter": "python",
   "pygments_lexer": "ipython3",
   "version": "3.6.5"
  }
 },
 "nbformat": 4,
 "nbformat_minor": 2
}
