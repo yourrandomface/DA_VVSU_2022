{
 "cells": [
  {
   "cell_type": "markdown",
   "metadata": {},
   "source": [
    "# Лекция 1. Основы Python для анализа данных"
   ]
  },
  {
   "cell_type": "markdown",
   "metadata": {},
   "source": [
    "Python стал общепринятым языком для многих сфер применения науки \n",
    "о данных (data science). Он сочетает в себе мощь языков \n",
    "программирования с простотой использования предметно ориентированных скриптовых языков типа MATLAB или R. \n",
    "Разберемся с азами его использвания, чтобы свободно применять их при анализе данных."
   ]
  },
  {
   "cell_type": "markdown",
   "metadata": {},
   "source": [
    "## О том, где будем работать"
   ]
  },
  {
   "cell_type": "markdown",
   "metadata": {},
   "source": [
    "Вариантов много, для удобства предложу два:\n",
    "* Google Colab - https://colab.research.google.com/?hl=ru-ru\n",
    "* Jupiter Notebook (входит в пакет Anaconda) - https://www.anaconda.com/\n",
    "\n",
    "Анализ данных будет проводиться в записках Jupiter Notebook (расширение файла .ipynb)"
   ]
  },
  {
   "cell_type": "markdown",
   "metadata": {},
   "source": [
    "Репозиторий курса - https://github.com/yourrandomface/DA_VVSU_2022"
   ]
  },
  {
   "cell_type": "markdown",
   "metadata": {},
   "source": [
    "## О Jupiter Notebook"
   ]
  },
  {
   "cell_type": "markdown",
   "metadata": {},
   "source": [
    "Jupyter-ноутбук — это среда разработки, где сразу можно видеть результат выполнения кода и его отдельных фрагментов. Отличие от традиционной среды разработки в том, что код можно разбить на куски и выполнять их в произвольном порядке. Представьте, что вы можете написать кусочек кода на салфетке и сказать салфетке: «Выполнись». - Журнал \"КОД\" - https://thecode.media/jupyter/"
   ]
  },
  {
   "cell_type": "markdown",
   "metadata": {},
   "source": [
    "шорткаты:\n",
    "* ctrl+enter - выполнить ячейку\n",
    "* B - создать ячейку кода ниже\n",
    "* DD - удалить ячейку"
   ]
  },
  {
   "cell_type": "markdown",
   "metadata": {},
   "source": [
    "## О Python"
   ]
  },
  {
   "cell_type": "markdown",
   "metadata": {},
   "source": [
    "Python — один из самых популярных языков в мире, и его популярность всё растёт. В рейтинге TIOBE за январь 2020 года он занял третье место, сразу после Java и С. Python используется в Google, Yahoo! , IBM и даже NASA и CERN. Впервые язык Python был анонсирован в 1991 году голландским разработчиком Гвидо Ван Россумом. С тех пор данный язык проделал большой путь развития. В 2000 году была издана версия 2.0, а в 2008 году - версия 3.0. Несмотря на вроде такие большие промежутки между версиями постоянно выходят подверсии. Так, текущей актуальной версией на момент написания данного материала является 3.10, которая вышла в октябре 2021 года."
   ]
  },
  {
   "cell_type": "markdown",
   "metadata": {},
   "source": [
    "Оф.сайт - https://www.python.org/"
   ]
  },
  {
   "cell_type": "markdown",
   "metadata": {},
   "source": [
    "Особенности Python:\n",
    "* Python - язык-интерпретатор (код в Python не переводится в машинный код, а выполняется программой-интерпретатором)\n",
    "* Объектно-ориентированный язык — это язык, созданный по модели объектно-ориентированного программирования\n",
    "* Динамическая типизация - свобода, типы переменных определяются после запуска программы"
   ]
  },
  {
   "cell_type": "markdown",
   "metadata": {},
   "source": [
    "Основные сферы применения:\n",
    "* веб-разработка;\n",
    "* машинное обучение;\n",
    "* интернет вещей;\n",
    "* проекты с искусственным интеллектом, нейросети;\n",
    "* Data Science, аналитика;\n",
    "* некоторые игры."
   ]
  },
  {
   "cell_type": "markdown",
   "metadata": {},
   "source": [
    "## Давайте начнем"
   ]
  },
  {
   "cell_type": "code",
   "execution_count": 2,
   "metadata": {},
   "outputs": [
    {
     "name": "stdout",
     "output_type": "stream",
     "text": [
      "Привет, мир!\n"
     ]
    }
   ],
   "source": [
    "#первая программа на Python\n",
    "print(\"Привет, мир!\")"
   ]
  },
  {
   "cell_type": "markdown",
   "metadata": {},
   "source": [
    "* Команда print - вывод любой информации в консоль\n",
    "* '#' - комментарии - используем для текстовых заметок в ячейках с кодом"
   ]
  },
  {
   "cell_type": "code",
   "execution_count": 3,
   "metadata": {
    "scrolled": true
   },
   "outputs": [
    {
     "name": "stdout",
     "output_type": "stream",
     "text": [
      "3\n",
      "3.5\n",
      "Text\n",
      "True\n"
     ]
    }
   ],
   "source": [
    "#простые типы данных\n",
    "print(3) # int - целое число\n",
    "print(3.555) # float - число с плавающей точкой\n",
    "print('Text') # str (string) - строка\n",
    "print(True) # bool - булевая переменная (True или False)"
   ]
  },
  {
   "cell_type": "code",
   "execution_count": 21,
   "metadata": {},
   "outputs": [
    {
     "name": "stdout",
     "output_type": "stream",
     "text": [
      "<class 'float'>\n"
     ]
    }
   ],
   "source": [
    "#как узнать тип данных? - метод type\n",
    "print(type(5.55))"
   ]
  },
  {
   "cell_type": "markdown",
   "metadata": {},
   "source": [
    "Встроенными методами int, float и str можно преобразовать необходимые элементы"
   ]
  },
  {
   "cell_type": "code",
   "execution_count": 14,
   "metadata": {
    "scrolled": true
   },
   "outputs": [
    {
     "name": "stdout",
     "output_type": "stream",
     "text": [
      "5.5\n",
      "<class 'float'>\n"
     ]
    }
   ],
   "source": [
    "print(float('5.5')) #передаем команде int строку с числом 5\n",
    "print(type(float('5.5')))"
   ]
  },
  {
   "cell_type": "markdown",
   "metadata": {},
   "source": [
    "## Переменные"
   ]
  },
  {
   "cell_type": "markdown",
   "metadata": {},
   "source": [
    "Переменная (от англ. variable) — поименованная или адресуемая иным способом область памяти, которую можно использовать для доступа к данным.\n",
    "\n",
    "Переменная простыми словами — это хранилище данных. Сюда можно положить какое-то значение (например, число, строку или другой тип данных). Еще более простой вариант представить себе переменную — подумать о том, что нас окружает. Например, переменной может быть какой-то небольшой мешочек, куда можно положить, к примеру, яблоко. Оно будет там находиться до тех пор, пока мы не решим произвести с яблоком какие-то действия."
   ]
  },
  {
   "cell_type": "markdown",
   "metadata": {},
   "source": [
    "В программе переменную нужно объявить прежде чем использовать. Переменная объявляется с помощью оператора присваивания - знака =."
   ]
  },
  {
   "cell_type": "code",
   "execution_count": 19,
   "metadata": {},
   "outputs": [
    {
     "name": "stdout",
     "output_type": "stream",
     "text": [
      "10\n"
     ]
    }
   ],
   "source": [
    "a=10\n",
    "print(a)"
   ]
  },
  {
   "cell_type": "markdown",
   "metadata": {},
   "source": [
    "Для имени переменной используется любой набор допустимых символов, к которым относятся буквы английского алфавита, цифры и знак _. При этом цифру нельзя ставить в начале. Имена переменных регистрозависимы, то есть имя hello и имя heLLo - это два разных имени, а значит и две переменные. Регистр в Python имеет важное значение, никогда не забывайте про него."
   ]
  },
  {
   "cell_type": "code",
   "execution_count": 20,
   "metadata": {},
   "outputs": [
    {
     "name": "stdout",
     "output_type": "stream",
     "text": [
      "HELLO\n",
      "hello\n"
     ]
    }
   ],
   "source": [
    "hello='HELLO'\n",
    "heLLo='hello'\n",
    "print(hello)\n",
    "print(heLLo)"
   ]
  },
  {
   "cell_type": "markdown",
   "metadata": {},
   "source": [
    "Ещё одно важное правило: переменные должны называться в соответсвии со значением, которое они несут. Переменная, хранящая в себе имя, должна называться name, возраст - age, город - city..."
   ]
  },
  {
   "cell_type": "code",
   "execution_count": 17,
   "metadata": {},
   "outputs": [
    {
     "name": "stdout",
     "output_type": "stream",
     "text": [
      "Месси\n",
      "Футбол\n",
      "PSG\n"
     ]
    }
   ],
   "source": [
    "player='Месси'\n",
    "game='Футбол'\n",
    "club='PSG'\n",
    "print(player)\n",
    "print(game)\n",
    "print(club)"
   ]
  },
  {
   "cell_type": "code",
   "execution_count": 18,
   "metadata": {},
   "outputs": [
    {
     "name": "stdout",
     "output_type": "stream",
     "text": [
      "Футболист Месси\n",
      "Играет в Футбол в клубе PSG\n"
     ]
    }
   ],
   "source": [
    "#команда print также поддерживает возможность вывода нескольких элементов в одной строке: \n",
    "#для этого нужно передать несколько аргументов через запятую\n",
    "print('Футболист',player)\n",
    "print('Играет в',game,'в клубе',club)"
   ]
  },
  {
   "cell_type": "markdown",
   "metadata": {},
   "source": [
    "Обратите внимание, что ячейки наследуются последовательно. В ячейке выше записаны значения всех переменных, а уже в следующей ячейке эти переменные используются вновь без повторного объявления."
   ]
  },
  {
   "cell_type": "code",
   "execution_count": 22,
   "metadata": {},
   "outputs": [
    {
     "name": "stdout",
     "output_type": "stream",
     "text": [
      "Соединяем строки в одно большое предложение\n",
      "Соединяем строки в одно большое предложение\n"
     ]
    }
   ],
   "source": [
    "#строковые переменные можно объединять между собой знаком +\n",
    "str1='Соединяем строки'\n",
    "str2=' в одно большое'\n",
    "str3=' предложение'\n",
    "final_string=str1+str2+str3\n",
    "print(final_string)\n",
    "print(str1+str2+str3)"
   ]
  },
  {
   "cell_type": "code",
   "execution_count": 23,
   "metadata": {},
   "outputs": [
    {
     "name": "stdout",
     "output_type": "stream",
     "text": [
      "Oleg\n",
      "Ivan\n"
     ]
    }
   ],
   "source": [
    "#меняем значение переменной в ходе выполнения программы\n",
    "name='Oleg'\n",
    "print(name)\n",
    "name='Ivan'\n",
    "print(name)"
   ]
  },
  {
   "cell_type": "code",
   "execution_count": 25,
   "metadata": {},
   "outputs": [],
   "source": [
    "name1='Kirill'"
   ]
  },
  {
   "cell_type": "code",
   "execution_count": 26,
   "metadata": {},
   "outputs": [
    {
     "name": "stdout",
     "output_type": "stream",
     "text": [
      "Kirill\n"
     ]
    }
   ],
   "source": [
    "print(name1)"
   ]
  },
  {
   "cell_type": "markdown",
   "metadata": {},
   "source": [
    "## Как дела с матешей в этом вашем Python?"
   ]
  },
  {
   "cell_type": "code",
   "execution_count": 27,
   "metadata": {},
   "outputs": [
    {
     "name": "stdout",
     "output_type": "stream",
     "text": [
      "20\n",
      "0\n",
      "100\n",
      "1.0\n"
     ]
    }
   ],
   "source": [
    "print(10+10) # сложение\n",
    "print(10-10) # вычитание\n",
    "print(10*10) # умножение\n",
    "print(10/10) # деление"
   ]
  },
  {
   "cell_type": "code",
   "execution_count": 28,
   "metadata": {},
   "outputs": [
    {
     "name": "stdout",
     "output_type": "stream",
     "text": [
      "5.0\n",
      "3.3333333333333335\n"
     ]
    }
   ],
   "source": [
    "#удивительная особенность деления в том, что оператор деления всегда возвращает результат в виде числа с плавающей точкой (float)\n",
    "print(10/2)\n",
    "print(10/3)"
   ]
  },
  {
   "cell_type": "code",
   "execution_count": 32,
   "metadata": {},
   "outputs": [
    {
     "data": {
      "text/plain": [
       "30"
      ]
     },
     "execution_count": 32,
     "metadata": {},
     "output_type": "execute_result"
    }
   ],
   "source": [
    "#над переменными также можно проводить все арифметические операции\n",
    "a=10\n",
    "b=3\n",
    "c=a*b\n",
    "c"
   ]
  },
  {
   "cell_type": "code",
   "execution_count": 33,
   "metadata": {},
   "outputs": [
    {
     "name": "stdout",
     "output_type": "stream",
     "text": [
      "13\n"
     ]
    }
   ],
   "source": [
    "a=10\n",
    "b=3\n",
    "a=a+b\n",
    "print(a)"
   ]
  },
  {
   "cell_type": "code",
   "execution_count": 35,
   "metadata": {},
   "outputs": [
    {
     "name": "stdout",
     "output_type": "stream",
     "text": [
      "30\n"
     ]
    }
   ],
   "source": [
    "#сокращенная запись\n",
    "a=10\n",
    "b=3\n",
    "a*=b #a=a*b\n",
    "print(a)"
   ]
  },
  {
   "cell_type": "code",
   "execution_count": 37,
   "metadata": {},
   "outputs": [
    {
     "data": {
      "text/plain": [
       "1"
      ]
     },
     "execution_count": 37,
     "metadata": {},
     "output_type": "execute_result"
    }
   ],
   "source": [
    "# а теперь ещё и целочисленное деление - два знака //\n",
    "# целочисленное деление - в результате возвращается только целая часть от деления\n",
    "# самое интересное, что в этом случае при делении возвращается целое число (тип данных int, а не float)\n",
    "10//10"
   ]
  },
  {
   "cell_type": "code",
   "execution_count": 38,
   "metadata": {},
   "outputs": [
    {
     "name": "stdout",
     "output_type": "stream",
     "text": [
      "1\n",
      "0\n",
      "0\n",
      "3\n",
      "0\n"
     ]
    }
   ],
   "source": [
    "#пробуем получить остаток от деления\n",
    "print(10%3)\n",
    "print(10%2)\n",
    "print(18%3)\n",
    "print(18%5)\n",
    "print(99%99)"
   ]
  },
  {
   "cell_type": "markdown",
   "metadata": {},
   "source": [
    "Хорошо понять логику получения остатка можно с помощью примера четных чисел. Для тех, кто не знает или забыл: четное число - число, которое нацело делится на два (10,12,14). При получении остатка от деления на два есть только два результата: либо 0, либо 1. Если же 0, то мы говорим что число делится на два без остатка и является четным. 1 - есть остаток, число нечетное."
   ]
  },
  {
   "cell_type": "code",
   "execution_count": 39,
   "metadata": {},
   "outputs": [
    {
     "name": "stdout",
     "output_type": "stream",
     "text": [
      "0\n",
      "1\n"
     ]
    }
   ],
   "source": [
    "print(10%2) #остаток четного числа\n",
    "print(11%2) #остаток нечетного числа"
   ]
  },
  {
   "cell_type": "markdown",
   "metadata": {},
   "source": [
    "## Структуры данных: списки (lists) и словари (dicts)"
   ]
  },
  {
   "cell_type": "markdown",
   "metadata": {},
   "source": [
    "Структуры данных – это, по сути, и есть структуры, которые могут хранить некоторые данные вместе. Другими словами, они используются для хранения связанных данных.\n",
    "\n",
    "В Python существуют четыре встроенных структуры данных: список, кортеж, словарь и множество. "
   ]
  },
  {
   "cell_type": "markdown",
   "metadata": {},
   "source": [
    "*Список* – это структура данных, которая содержит упорядоченный набор элементов, т.е. хранит последовательность элементов. Это легко представить, если вспомнить список покупок, в котором перечисляется, что нужно купить, с тем лишь исключением, что в списке покупок каждый элемент обычно размещается на отдельной строке, тогда как в Python они разделяются запятыми."
   ]
  },
  {
   "cell_type": "code",
   "execution_count": 40,
   "metadata": {},
   "outputs": [
    {
     "name": "stdout",
     "output_type": "stream",
     "text": [
      "['Ivan', 'Oleg', 'Anna', 'Artem']\n",
      "['Lev', 'Pavel', 'Alex', 'Maxim']\n"
     ]
    }
   ],
   "source": [
    "#два способа создать список\n",
    "names1 = ['Ivan','Oleg','Anna','Artem']\n",
    "names2 = list(['Lev','Pavel','Alex','Maxim'])\n",
    "print(names1)\n",
    "print(names2)"
   ]
  },
  {
   "cell_type": "code",
   "execution_count": 41,
   "metadata": {},
   "outputs": [
    {
     "data": {
      "text/plain": [
       "list"
      ]
     },
     "execution_count": 41,
     "metadata": {},
     "output_type": "execute_result"
    }
   ],
   "source": [
    "type(names1)"
   ]
  },
  {
   "cell_type": "code",
   "execution_count": 42,
   "metadata": {},
   "outputs": [
    {
     "data": {
      "text/html": [
       "<img src=\"https://baguzin.ru/wp/wp-content/uploads/2016/05/%D0%A0%D0%B8%D1%81.-4.-%D0%9C%D0%B5%D1%82%D0%BE%D0%B4%D1%8B-%D1%81%D0%BF%D0%B8%D1%81%D0%BA%D0%B0.jpg\"/>"
      ],
      "text/plain": [
       "<IPython.core.display.Image object>"
      ]
     },
     "execution_count": 42,
     "metadata": {},
     "output_type": "execute_result"
    }
   ],
   "source": [
    "#методы списков\n",
    "from IPython.display import Image\n",
    "Image(url= \"https://baguzin.ru/wp/wp-content/uploads/2016/05/%D0%A0%D0%B8%D1%81.-4.-%D0%9C%D0%B5%D1%82%D0%BE%D0%B4%D1%8B-%D1%81%D0%BF%D0%B8%D1%81%D0%BA%D0%B0.jpg\")"
   ]
  },
  {
   "cell_type": "code",
   "execution_count": 43,
   "metadata": {},
   "outputs": [
    {
     "data": {
      "text/plain": [
       "['Ivan', 'Oleg', 'Anna', 'Artem', 'Fedor']"
      ]
     },
     "execution_count": 43,
     "metadata": {},
     "output_type": "execute_result"
    }
   ],
   "source": [
    "#добавим в список новое имя\n",
    "names1.append('Fedor')\n",
    "names1"
   ]
  },
  {
   "cell_type": "code",
   "execution_count": 44,
   "metadata": {},
   "outputs": [
    {
     "data": {
      "text/plain": [
       "['Fedor', 'Artem', 'Anna', 'Oleg', 'Ivan']"
      ]
     },
     "execution_count": 44,
     "metadata": {},
     "output_type": "execute_result"
    }
   ],
   "source": [
    "names1.reverse()\n",
    "names1"
   ]
  },
  {
   "cell_type": "code",
   "execution_count": 45,
   "metadata": {},
   "outputs": [
    {
     "data": {
      "text/plain": [
       "['Fedor', 'Anna', 'Oleg', 'Ivan']"
      ]
     },
     "execution_count": 45,
     "metadata": {},
     "output_type": "execute_result"
    }
   ],
   "source": [
    "#удалим элемент из списка\n",
    "names1.remove('Artem')\n",
    "names1"
   ]
  },
  {
   "cell_type": "code",
   "execution_count": 47,
   "metadata": {},
   "outputs": [
    {
     "data": {
      "text/plain": [
       "3"
      ]
     },
     "execution_count": 47,
     "metadata": {},
     "output_type": "execute_result"
    }
   ],
   "source": [
    "#при индексы\n",
    "names1.index('Ivan')"
   ]
  },
  {
   "cell_type": "code",
   "execution_count": 48,
   "metadata": {},
   "outputs": [
    {
     "data": {
      "text/plain": [
       "['Artem', 'Fedor', 'Anna', 'Oleg', 'Ivan']"
      ]
     },
     "execution_count": 48,
     "metadata": {},
     "output_type": "execute_result"
    }
   ],
   "source": [
    "#добавим элемент списка в необходимую позицию\n",
    "names1.insert(0,'Artem')\n",
    "names1"
   ]
  },
  {
   "cell_type": "code",
   "execution_count": 49,
   "metadata": {},
   "outputs": [
    {
     "data": {
      "text/plain": [
       "['Anna', 'Artem', 'Fedor', 'Ivan', 'Oleg']"
      ]
     },
     "execution_count": 49,
     "metadata": {},
     "output_type": "execute_result"
    }
   ],
   "source": [
    "#сортировка\n",
    "names1.sort()\n",
    "names1"
   ]
  },
  {
   "cell_type": "code",
   "execution_count": 52,
   "metadata": {
    "scrolled": true
   },
   "outputs": [
    {
     "data": {
      "text/plain": [
       "['Oleg', 'Ivan', 'Fedor', 'Artem', 'Anna']"
      ]
     },
     "execution_count": 52,
     "metadata": {},
     "output_type": "execute_result"
    }
   ],
   "source": [
    "names1.sort(reverse=True)\n",
    "names1"
   ]
  },
  {
   "cell_type": "code",
   "execution_count": 53,
   "metadata": {},
   "outputs": [
    {
     "data": {
      "text/plain": [
       "5"
      ]
     },
     "execution_count": 53,
     "metadata": {},
     "output_type": "execute_result"
    }
   ],
   "source": [
    "#кол-во элементов в списке\n",
    "len(names1)"
   ]
  },
  {
   "cell_type": "code",
   "execution_count": 55,
   "metadata": {},
   "outputs": [],
   "source": [
    "names1.append('Oleg')"
   ]
  },
  {
   "cell_type": "code",
   "execution_count": 56,
   "metadata": {},
   "outputs": [
    {
     "name": "stdout",
     "output_type": "stream",
     "text": [
      "2\n",
      "0\n"
     ]
    }
   ],
   "source": [
    "#подсчет количества значений\n",
    "print(names1.count('Oleg'))\n",
    "print(names1.count('Andrey'))"
   ]
  },
  {
   "cell_type": "code",
   "execution_count": 64,
   "metadata": {},
   "outputs": [
    {
     "data": {
      "text/plain": [
       "'Ivan'"
      ]
     },
     "execution_count": 64,
     "metadata": {},
     "output_type": "execute_result"
    }
   ],
   "source": [
    "names1[1]"
   ]
  },
  {
   "cell_type": "code",
   "execution_count": 57,
   "metadata": {},
   "outputs": [
    {
     "data": {
      "text/plain": [
       "['Oleg',\n",
       " 'Ivan',\n",
       " 'Fedor',\n",
       " 'Artem',\n",
       " 'Anna',\n",
       " 'Oleg',\n",
       " 'Lev',\n",
       " 'Pavel',\n",
       " 'Alex',\n",
       " 'Maxim']"
      ]
     },
     "execution_count": 57,
     "metadata": {},
     "output_type": "execute_result"
    }
   ],
   "source": [
    "#объединение списков\n",
    "names1.extend(names2)\n",
    "names1"
   ]
  },
  {
   "cell_type": "markdown",
   "metadata": {},
   "source": [
    "Словари в Python - неупорядоченные коллекции произвольных объектов с доступом по ключу. Их иногда ещё называют ассоциативными массивами или хеш-таблицами."
   ]
  },
  {
   "cell_type": "code",
   "execution_count": 65,
   "metadata": {},
   "outputs": [
    {
     "data": {
      "text/plain": [
       "{'отличник': 'Oleg', 'работает на заводе': 'Alex', 'волонтер': 'Ivan'}"
      ]
     },
     "execution_count": 65,
     "metadata": {},
     "output_type": "execute_result"
    }
   ],
   "source": [
    "students1={'отличник':'Oleg','работает на заводе':'Alex','волонтер':'Ivan'}\n",
    "students1"
   ]
  },
  {
   "cell_type": "code",
   "execution_count": 59,
   "metadata": {},
   "outputs": [
    {
     "data": {
      "text/plain": [
       "dict"
      ]
     },
     "execution_count": 59,
     "metadata": {},
     "output_type": "execute_result"
    }
   ],
   "source": [
    "type(students1)"
   ]
  },
  {
   "cell_type": "code",
   "execution_count": 72,
   "metadata": {},
   "outputs": [
    {
     "data": {
      "text/plain": [
       "'Ivan'"
      ]
     },
     "execution_count": 72,
     "metadata": {},
     "output_type": "execute_result"
    }
   ],
   "source": [
    "students1['волонтер']"
   ]
  },
  {
   "cell_type": "code",
   "execution_count": 67,
   "metadata": {},
   "outputs": [],
   "source": [
    "car = {\n",
    "  \"Company\": \"Toyota\", \n",
    "  \"model\": \"Premio\", \n",
    "  \"year\": 2012 \n",
    "}"
   ]
  },
  {
   "cell_type": "code",
   "execution_count": 68,
   "metadata": {
    "scrolled": true
   },
   "outputs": [
    {
     "data": {
      "text/plain": [
       "'Toyota'"
      ]
     },
     "execution_count": 68,
     "metadata": {},
     "output_type": "execute_result"
    }
   ],
   "source": [
    "car['Company']"
   ]
  },
  {
   "cell_type": "markdown",
   "metadata": {},
   "source": [
    "## Условия"
   ]
  },
  {
   "cell_type": "code",
   "execution_count": 73,
   "metadata": {
    "scrolled": true
   },
   "outputs": [
    {
     "data": {
      "text/html": [
       "<img src=\"data:image/jpeg;base64,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\"/>"
      ],
      "text/plain": [
       "<IPython.core.display.Image object>"
      ]
     },
     "execution_count": 73,
     "metadata": {},
     "output_type": "execute_result"
    }
   ],
   "source": [
    "Image(url= \"data:image/jpeg;base64,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\")"
   ]
  },
  {
   "cell_type": "markdown",
   "metadata": {},
   "source": [
    "if - то самое ключевое слово в Python, которое объявляет наличие условия в программе"
   ]
  },
  {
   "cell_type": "code",
   "execution_count": 79,
   "metadata": {},
   "outputs": [
    {
     "name": "stdout",
     "output_type": "stream",
     "text": [
      "Где твои родители?\n"
     ]
    }
   ],
   "source": [
    "#проверим, проходим ли мы по возрасту для просмотра фильма Тарантино \"Омерзительная восьмерка\"\n",
    "age=15\n",
    "if age>=18:\n",
    "    print('Приятного просмотра')\n",
    "elif age<18 and age>=16:\n",
    "    print('Проход с родителями')\n",
    "else:\n",
    "    print('Где твои родители?')"
   ]
  },
  {
   "cell_type": "code",
   "execution_count": 81,
   "metadata": {},
   "outputs": [],
   "source": [
    "if 'Вова' in names1:\n",
    "    print('Привет, Олег!')"
   ]
  },
  {
   "cell_type": "markdown",
   "metadata": {},
   "source": [
    "## Циклы"
   ]
  },
  {
   "cell_type": "markdown",
   "metadata": {},
   "source": [
    "Если хотим выполнить действие несколько раз, пробежаться по элемантам списка - добро пожаловать в циклы"
   ]
  },
  {
   "cell_type": "markdown",
   "metadata": {},
   "source": [
    "While - один из самых универсальных циклов в Python, поэтому довольно медленный. Выполняет тело цикла до тех пор, пока условие цикла истинно."
   ]
  },
  {
   "cell_type": "code",
   "execution_count": 82,
   "metadata": {},
   "outputs": [
    {
     "name": "stdout",
     "output_type": "stream",
     "text": [
      "5\n",
      "7\n",
      "9\n",
      "11\n",
      "13\n"
     ]
    }
   ],
   "source": [
    "#цикл while\n",
    "i = 5\n",
    "while i < 15:\n",
    "    print(i)\n",
    "    i = i + 2"
   ]
  },
  {
   "cell_type": "markdown",
   "metadata": {},
   "source": [
    "Цикл for уже чуточку сложнее, чуть менее универсальный, но выполняется гораздо быстрее цикла while. Этот цикл проходится по любому итерируемому объекту (например строке или списку), и во время каждого прохода выполняет тело цикла."
   ]
  },
  {
   "cell_type": "code",
   "execution_count": 84,
   "metadata": {},
   "outputs": [
    {
     "name": "stdout",
     "output_type": "stream",
     "text": [
      "kekkek\n"
     ]
    }
   ],
   "source": [
    "print('kek'*2)"
   ]
  },
  {
   "cell_type": "code",
   "execution_count": 83,
   "metadata": {},
   "outputs": [
    {
     "name": "stdout",
     "output_type": "stream",
     "text": [
      "вв\n",
      "гг\n",
      "уу\n",
      "ээ\n",
      "сс\n",
      "  \n",
      "пп\n",
      "ее\n",
      "рр\n",
      "вв\n",
      "ыы\n",
      "йй\n"
     ]
    }
   ],
   "source": [
    "for i in 'вгуэс первый':\n",
    "    print(i * 2)"
   ]
  },
  {
   "cell_type": "code",
   "execution_count": 85,
   "metadata": {},
   "outputs": [
    {
     "name": "stdout",
     "output_type": "stream",
     "text": [
      "Oleg\n",
      "Ivan\n",
      "Fedor\n",
      "Artem\n",
      "Anna\n",
      "Oleg\n",
      "Lev\n",
      "Pavel\n",
      "Alex\n",
      "Maxim\n"
     ]
    }
   ],
   "source": [
    "for i in names1:\n",
    "    print(i)"
   ]
  },
  {
   "cell_type": "code",
   "execution_count": 86,
   "metadata": {},
   "outputs": [
    {
     "name": "stdout",
     "output_type": "stream",
     "text": [
      "Oleg\n",
      "Oleg\n"
     ]
    }
   ],
   "source": [
    "for i in names1:\n",
    "    if i=='Oleg':\n",
    "        print(i)"
   ]
  },
  {
   "cell_type": "code",
   "execution_count": 87,
   "metadata": {},
   "outputs": [
    {
     "name": "stdout",
     "output_type": "stream",
     "text": [
      "Ivan\n",
      "Fedor\n",
      "Artem\n",
      "Anna\n",
      "Lev\n",
      "Pavel\n",
      "Alex\n",
      "Maxim\n"
     ]
    }
   ],
   "source": [
    "for i in names1:\n",
    "    if i=='Oleg':\n",
    "        continue\n",
    "    print(i)"
   ]
  },
  {
   "cell_type": "code",
   "execution_count": 88,
   "metadata": {
    "scrolled": true
   },
   "outputs": [
    {
     "name": "stdout",
     "output_type": "stream",
     "text": [
      "Oleg\n",
      "Ivan\n",
      "Fedor\n"
     ]
    }
   ],
   "source": [
    "for i in names1:\n",
    "    if i=='Artem':\n",
    "        break\n",
    "    print(i)"
   ]
  },
  {
   "cell_type": "markdown",
   "metadata": {},
   "source": [
    "Для итерации по ранжированному списку используем range"
   ]
  },
  {
   "cell_type": "code",
   "execution_count": 92,
   "metadata": {
    "scrolled": true
   },
   "outputs": [
    {
     "name": "stdout",
     "output_type": "stream",
     "text": [
      "10\n",
      "9\n",
      "8\n",
      "7\n",
      "6\n",
      "5\n",
      "4\n",
      "3\n",
      "2\n",
      "1\n"
     ]
    }
   ],
   "source": [
    "# у range три параметра - начало отсчета, конец отсчета, и шаг итерации\n",
    "for i in range(10,0,-1):\n",
    "    print(i)"
   ]
  },
  {
   "cell_type": "code",
   "execution_count": 93,
   "metadata": {},
   "outputs": [],
   "source": [
    "#цикл с занесением четных чисел в список\n",
    "numbers=[]\n",
    "for i in range(0,100):\n",
    "    if i%2==0:\n",
    "        numbers.append(i)"
   ]
  },
  {
   "cell_type": "code",
   "execution_count": 97,
   "metadata": {},
   "outputs": [
    {
     "data": {
      "text/plain": [
       "[20, 22, 24, 26, 28, 30, 32, 34, 36, 38]"
      ]
     },
     "execution_count": 97,
     "metadata": {},
     "output_type": "execute_result"
    }
   ],
   "source": [
    "numbers[10:20]"
   ]
  },
  {
   "cell_type": "markdown",
   "metadata": {},
   "source": [
    "В догонку:\n",
    "* курс для начинающих - https://stepik.org/course/58852/promo?search=1072560839\n",
    "* курс повеселее - https://stepik.org/course/68343/promo?search=1072560838"
   ]
  }
 ],
 "metadata": {
  "kernelspec": {
   "display_name": "Python 3",
   "language": "python",
   "name": "python3"
  },
  "language_info": {
   "codemirror_mode": {
    "name": "ipython",
    "version": 3
   },
   "file_extension": ".py",
   "mimetype": "text/x-python",
   "name": "python",
   "nbconvert_exporter": "python",
   "pygments_lexer": "ipython3",
   "version": "3.8.3"
  }
 },
 "nbformat": 4,
 "nbformat_minor": 4
}
